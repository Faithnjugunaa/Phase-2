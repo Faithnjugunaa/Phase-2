{
  "cells": [
    {
      "cell_type": "markdown",
      "metadata": {
        "id": "qxXlowjZVX65"
      },
      "source": [
        "# Website A/B Testing - Lab\n",
        "\n",
        "## Introduction\n",
        "\n",
        "In this lab, you'll get another chance to practice your skills at conducting a full A/B test analysis. It will also be a chance to practice your data exploration and processing skills! The scenario you'll be investigating is data collected from the homepage of a music app page for audacity.\n",
        "\n",
        "## Objectives\n",
        "\n",
        "You will be able to:\n",
        "* Analyze the data from a website A/B test to draw relevant conclusions\n",
        "* Explore and analyze web action data"
      ]
    },
    {
      "cell_type": "markdown",
      "metadata": {
        "id": "5hmoEjPuVX67"
      },
      "source": [
        "## Exploratory Analysis\n",
        "\n",
        "Start by loading in the dataset stored in the file 'homepage_actions.csv'. Then conduct an exploratory analysis to get familiar with the data."
      ]
    },
    {
      "cell_type": "markdown",
      "metadata": {
        "id": "IYc4gcfzVX67"
      },
      "source": [
        "> Hints:\n",
        "    * Start investigating the id column:\n",
        "        * How many viewers also clicked?\n",
        "        * Are there any anomalies with the data; did anyone click who didn't view?\n",
        "        * Is there any overlap between the control and experiment groups?\n",
        "            * If so, how do you plan to account for this in your experimental design?"
      ]
    },
    {
      "cell_type": "code",
      "execution_count": null,
      "metadata": {
        "id": "ykdTO8yGVX68",
        "outputId": "067e48c6-d58b-4f56-ec99-6036e2469a68"
      },
      "outputs": [
        {
          "data": {
            "text/html": [
              "<div>\n",
              "<style scoped>\n",
              "    .dataframe tbody tr th:only-of-type {\n",
              "        vertical-align: middle;\n",
              "    }\n",
              "\n",
              "    .dataframe tbody tr th {\n",
              "        vertical-align: top;\n",
              "    }\n",
              "\n",
              "    .dataframe thead th {\n",
              "        text-align: right;\n",
              "    }\n",
              "</style>\n",
              "<table border=\"1\" class=\"dataframe\">\n",
              "  <thead>\n",
              "    <tr style=\"text-align: right;\">\n",
              "      <th></th>\n",
              "      <th>timestamp</th>\n",
              "      <th>id</th>\n",
              "      <th>group</th>\n",
              "      <th>action</th>\n",
              "    </tr>\n",
              "  </thead>\n",
              "  <tbody>\n",
              "    <tr>\n",
              "      <th>0</th>\n",
              "      <td>2016-09-24 17:42:27.839496</td>\n",
              "      <td>804196</td>\n",
              "      <td>experiment</td>\n",
              "      <td>view</td>\n",
              "    </tr>\n",
              "    <tr>\n",
              "      <th>1</th>\n",
              "      <td>2016-09-24 19:19:03.542569</td>\n",
              "      <td>434745</td>\n",
              "      <td>experiment</td>\n",
              "      <td>view</td>\n",
              "    </tr>\n",
              "    <tr>\n",
              "      <th>2</th>\n",
              "      <td>2016-09-24 19:36:00.944135</td>\n",
              "      <td>507599</td>\n",
              "      <td>experiment</td>\n",
              "      <td>view</td>\n",
              "    </tr>\n",
              "    <tr>\n",
              "      <th>3</th>\n",
              "      <td>2016-09-24 19:59:02.646620</td>\n",
              "      <td>671993</td>\n",
              "      <td>control</td>\n",
              "      <td>view</td>\n",
              "    </tr>\n",
              "    <tr>\n",
              "      <th>4</th>\n",
              "      <td>2016-09-24 20:26:14.466886</td>\n",
              "      <td>536734</td>\n",
              "      <td>experiment</td>\n",
              "      <td>view</td>\n",
              "    </tr>\n",
              "  </tbody>\n",
              "</table>\n",
              "</div>"
            ],
            "text/plain": [
              "                    timestamp      id       group action\n",
              "0  2016-09-24 17:42:27.839496  804196  experiment   view\n",
              "1  2016-09-24 19:19:03.542569  434745  experiment   view\n",
              "2  2016-09-24 19:36:00.944135  507599  experiment   view\n",
              "3  2016-09-24 19:59:02.646620  671993     control   view\n",
              "4  2016-09-24 20:26:14.466886  536734  experiment   view"
            ]
          },
          "execution_count": 2,
          "metadata": {},
          "output_type": "execute_result"
        }
      ],
      "source": [
        "#Your code here\n",
        "## Import the packages\n",
        "import numpy as np\n",
        "import pandas as pd\n",
        "from scipy import stats\n",
        "import math\n",
        "\n",
        "# For visualizing distributions - optional\n",
        "import seaborn as sns\n",
        "import matplotlib.pyplot as plt\n",
        "\n",
        "df = pd.read_csv('homepage_actions.csv')\n",
        "df.head()"
      ]
    },
    {
      "cell_type": "code",
      "execution_count": null,
      "metadata": {
        "id": "MKXp5pRSVX69",
        "outputId": "0a1dca79-3020-4cb4-ab2b-cd6fb2b49750"
      },
      "outputs": [
        {
          "name": "stdout",
          "output_type": "stream",
          "text": [
            "<class 'pandas.core.frame.DataFrame'>\n",
            "RangeIndex: 8188 entries, 0 to 8187\n",
            "Data columns (total 4 columns):\n",
            " #   Column     Non-Null Count  Dtype \n",
            "---  ------     --------------  ----- \n",
            " 0   timestamp  8188 non-null   object\n",
            " 1   id         8188 non-null   int64 \n",
            " 2   group      8188 non-null   object\n",
            " 3   action     8188 non-null   object\n",
            "dtypes: int64(1), object(3)\n",
            "memory usage: 256.0+ KB\n"
          ]
        }
      ],
      "source": [
        "df.info()"
      ]
    },
    {
      "cell_type": "code",
      "execution_count": null,
      "metadata": {
        "id": "XZwo9Q0mVX6-",
        "outputId": "8d170f7c-c2b6-4618-ed49-0d0b27d00002"
      },
      "outputs": [
        {
          "data": {
            "text/plain": [
              "timestamp    8188\n",
              "id           6328\n",
              "group           2\n",
              "action          2\n",
              "dtype: int64"
            ]
          },
          "execution_count": 5,
          "metadata": {},
          "output_type": "execute_result"
        }
      ],
      "source": [
        "df.nunique()"
      ]
    },
    {
      "cell_type": "code",
      "execution_count": null,
      "metadata": {
        "id": "ihXrcyidVX6-",
        "outputId": "f0042fa4-3fa7-443c-b7c6-d99db34c675e"
      },
      "outputs": [
        {
          "data": {
            "text/plain": [
              "timestamp    object\n",
              "id            int64\n",
              "group        object\n",
              "action       object\n",
              "dtype: object"
            ]
          },
          "execution_count": 10,
          "metadata": {},
          "output_type": "execute_result"
        }
      ],
      "source": [
        "df.dtypes"
      ]
    },
    {
      "cell_type": "code",
      "execution_count": null,
      "metadata": {
        "id": "PV07r5fsVX6-",
        "outputId": "b319577a-9ed1-4ad2-ff29-9152db6732a9"
      },
      "outputs": [
        {
          "data": {
            "text/html": [
              "<div>\n",
              "<style scoped>\n",
              "    .dataframe tbody tr th:only-of-type {\n",
              "        vertical-align: middle;\n",
              "    }\n",
              "\n",
              "    .dataframe tbody tr th {\n",
              "        vertical-align: top;\n",
              "    }\n",
              "\n",
              "    .dataframe thead th {\n",
              "        text-align: right;\n",
              "    }\n",
              "</style>\n",
              "<table border=\"1\" class=\"dataframe\">\n",
              "  <thead>\n",
              "    <tr style=\"text-align: right;\">\n",
              "      <th></th>\n",
              "      <th>id</th>\n",
              "      <th>action</th>\n",
              "    </tr>\n",
              "  </thead>\n",
              "  <tbody>\n",
              "    <tr>\n",
              "      <th>0</th>\n",
              "      <td>182988</td>\n",
              "      <td>[view]</td>\n",
              "    </tr>\n",
              "    <tr>\n",
              "      <th>1</th>\n",
              "      <td>182994</td>\n",
              "      <td>[view, click]</td>\n",
              "    </tr>\n",
              "    <tr>\n",
              "      <th>2</th>\n",
              "      <td>183089</td>\n",
              "      <td>[view]</td>\n",
              "    </tr>\n",
              "    <tr>\n",
              "      <th>3</th>\n",
              "      <td>183136</td>\n",
              "      <td>[view]</td>\n",
              "    </tr>\n",
              "    <tr>\n",
              "      <th>4</th>\n",
              "      <td>183141</td>\n",
              "      <td>[view, click]</td>\n",
              "    </tr>\n",
              "    <tr>\n",
              "      <th>...</th>\n",
              "      <td>...</td>\n",
              "      <td>...</td>\n",
              "    </tr>\n",
              "    <tr>\n",
              "      <th>6323</th>\n",
              "      <td>937003</td>\n",
              "      <td>[view]</td>\n",
              "    </tr>\n",
              "    <tr>\n",
              "      <th>6324</th>\n",
              "      <td>937073</td>\n",
              "      <td>[view]</td>\n",
              "    </tr>\n",
              "    <tr>\n",
              "      <th>6325</th>\n",
              "      <td>937108</td>\n",
              "      <td>[view]</td>\n",
              "    </tr>\n",
              "    <tr>\n",
              "      <th>6326</th>\n",
              "      <td>937139</td>\n",
              "      <td>[view, click]</td>\n",
              "    </tr>\n",
              "    <tr>\n",
              "      <th>6327</th>\n",
              "      <td>937217</td>\n",
              "      <td>[view, click]</td>\n",
              "    </tr>\n",
              "  </tbody>\n",
              "</table>\n",
              "<p>6328 rows × 2 columns</p>\n",
              "</div>"
            ],
            "text/plain": [
              "          id         action\n",
              "0     182988         [view]\n",
              "1     182994  [view, click]\n",
              "2     183089         [view]\n",
              "3     183136         [view]\n",
              "4     183141  [view, click]\n",
              "...      ...            ...\n",
              "6323  937003         [view]\n",
              "6324  937073         [view]\n",
              "6325  937108         [view]\n",
              "6326  937139  [view, click]\n",
              "6327  937217  [view, click]\n",
              "\n",
              "[6328 rows x 2 columns]"
            ]
          },
          "execution_count": 11,
          "metadata": {},
          "output_type": "execute_result"
        }
      ],
      "source": [
        "user_actions = df.groupby(\"id\")[\"action\"].unique().reset_index()\n",
        "user_actions"
      ]
    },
    {
      "cell_type": "code",
      "execution_count": null,
      "metadata": {
        "id": "w4Pr2bJJVX6-",
        "outputId": "d2be81d6-40b6-494f-ea23-5a8b537bb0ce"
      },
      "outputs": [
        {
          "name": "stdout",
          "output_type": "stream",
          "text": [
            "Number of users who both viewed and clicked: 1860\n"
          ]
        }
      ],
      "source": [
        "# Users with both \"view\" and \"click\"\n",
        "both_view_and_click = user_actions[user_actions[\"action\"].apply(lambda x: set([\"view\",\"click\"]).issubset(x))]\n",
        "\n",
        "print(\"Number of users who both viewed and clicked:\", len(both_view_and_click))"
      ]
    },
    {
      "cell_type": "code",
      "execution_count": null,
      "metadata": {
        "id": "9ZgrBA5OVX6-",
        "outputId": "d81f3ba2-798b-42fb-9a37-343d403a855a"
      },
      "outputs": [
        {
          "name": "stdout",
          "output_type": "stream",
          "text": [
            "Users who clicked without viewing: 0\n"
          ]
        }
      ],
      "source": [
        "# Users who only clicked but never viewed\n",
        "only_clickers = user_actions[user_actions[\"action\"].apply(lambda x: x.tolist() == [\"click\"])]\n",
        "\n",
        "print(\"Users who clicked without viewing:\", len(only_clickers))"
      ]
    },
    {
      "cell_type": "code",
      "execution_count": null,
      "metadata": {
        "id": "yWmp-5JrVX6_",
        "outputId": "8fca62f3-eeb0-48f6-ce85-31f3fb894eb2"
      },
      "outputs": [
        {
          "name": "stdout",
          "output_type": "stream",
          "text": [
            "Users in both control & experiment: 0\n"
          ]
        }
      ],
      "source": [
        "# Find group assignment per user\n",
        "user_groups = df.groupby(\"id\")[\"group\"].nunique().reset_index()\n",
        "\n",
        "# Overlap = users with >1 group\n",
        "overlap_users = user_groups[user_groups[\"group\"] > 1]\n",
        "\n",
        "print(\"Users in both control & experiment:\", len(overlap_users))"
      ]
    },
    {
      "cell_type": "markdown",
      "metadata": {
        "id": "vi2Ic5aHVX6_"
      },
      "source": [
        "## Conduct a Statistical Test\n",
        "\n",
        "Conduct a statistical test to determine whether the experimental homepage was more effective than that of the control group."
      ]
    },
    {
      "cell_type": "code",
      "execution_count": null,
      "metadata": {
        "id": "UywlBP34VX6_",
        "outputId": "b92bb5cb-d225-4045-c16a-320b9062f7af"
      },
      "outputs": [
        {
          "name": "stdout",
          "output_type": "stream",
          "text": [
            "CTR per group:\n",
            " group\n",
            "control       0.279712\n",
            "experiment    0.309746\n",
            "Name: clicked, dtype: float64\n",
            "Counts:\n",
            "             sum  count\n",
            "group                 \n",
            "control     932   3332\n",
            "experiment  928   2996\n"
          ]
        }
      ],
      "source": [
        "#Your code here\n",
        "'''\n",
        "Since the test is categorical, we'll do two proportion z-test to check whether the experimental homepage was more effective\n",
        "Null Hypothesis - The experimental homepage was not effective\n",
        "Alternate Hypothesis - The experimental homepage was effective\n",
        "'''\n",
        "\n",
        "\n",
        "# Calculate CTR per group\n",
        "ctr = user_actions.groupby(\"group\")[\"clicked\"].mean()\n",
        "counts = user_actions.groupby(\"group\")[\"clicked\"].agg([\"sum\",\"count\"])\n",
        "print(\"CTR per group:\\n\", ctr)\n",
        "print(\"Counts:\\n\", counts)"
      ]
    },
    {
      "cell_type": "markdown",
      "metadata": {
        "id": "PwZHCR6QVX6_"
      },
      "source": [
        "## Verifying Results\n",
        "\n",
        "One sensible formulation of the data to answer the hypothesis test above would be to create a binary variable representing each individual in the experiment and control group. This binary variable would represent whether or not that individual clicked on the homepage; 1 for they did and 0 if they did not.\n",
        "\n",
        "The variance for the number of successes in a sample of a binomial variable with n observations is given by:\n",
        "\n",
        "## $n\\bullet p (1-p)$\n",
        "\n",
        "Given this, perform 3 steps to verify the results of your statistical test:\n",
        "1. Calculate the expected number of clicks for the experiment group, if it had the same click-through rate as that of the control group.\n",
        "2. Calculate the number of standard deviations that the actual number of clicks was from this estimate.\n",
        "3. Finally, calculate a p-value using the normal distribution based on this z-score."
      ]
    },
    {
      "cell_type": "markdown",
      "metadata": {
        "id": "yg2ziaq9VX6_"
      },
      "source": [
        "### Step 1:\n",
        "Calculate the expected number of clicks for the experiment group, if it had the same click-through rate as that of the control group."
      ]
    },
    {
      "cell_type": "code",
      "execution_count": null,
      "metadata": {
        "id": "6kyf1Dz1VX6_"
      },
      "outputs": [],
      "source": [
        "#Your code here\n",
        "# For each user, did they click?\n",
        "user_actions = df.groupby([\"id\", \"group\"])[\"action\"].apply(lambda x: \"click\" in x.values).reset_index()\n",
        "\n",
        "# Convert to numeric (1 = clicked, 0 = did not click)\n",
        "user_actions[\"clicked\"] = user_actions[\"action\"].astype(int)"
      ]
    },
    {
      "cell_type": "markdown",
      "metadata": {
        "id": "ZjPwNpQBVX7A"
      },
      "source": [
        "### Step 2:\n",
        "Calculate the number of standard deviations that the actual number of clicks was from this estimate."
      ]
    },
    {
      "cell_type": "code",
      "execution_count": null,
      "metadata": {
        "id": "6ajv7dy-VX7A",
        "outputId": "4aed02a1-42a8-40e8-ec15-25d5d105cf97"
      },
      "outputs": [
        {
          "data": {
            "text/plain": [
              "np.float64(0.4555970484323387)"
            ]
          },
          "execution_count": 20,
          "metadata": {},
          "output_type": "execute_result"
        }
      ],
      "source": [
        "#Your code here\n",
        "std_dev = user_actions['clicked'].std()\n",
        "std_dev"
      ]
    },
    {
      "cell_type": "markdown",
      "metadata": {
        "id": "0CJiWYw1VX7A"
      },
      "source": [
        "### Step 3:\n",
        "Finally, calculate a p-value using the normal distribution based on this z-score."
      ]
    },
    {
      "cell_type": "code",
      "execution_count": null,
      "metadata": {
        "id": "vyga7IFNVX7A",
        "outputId": "b4c8e46c-f054-46ed-9a29-a30f99310429"
      },
      "outputs": [
        {
          "name": "stdout",
          "output_type": "stream",
          "text": [
            "z-statistic: -2.618563885349469 p-value: 0.008830075576595804\n"
          ]
        }
      ],
      "source": [
        "#Your code here\n",
        "from statsmodels.stats.proportion import proportions_ztest\n",
        "\n",
        "# Extract successes (clicks) and totals\n",
        "successes = counts[\"sum\"].values\n",
        "nobs = counts[\"count\"].values\n",
        "\n",
        "# Run two-proportion z-test\n",
        "stat, pval = proportions_ztest(successes, nobs)\n",
        "\n",
        "print(\"z-statistic:\", stat, \"p-value:\", pval)"
      ]
    },
    {
      "cell_type": "markdown",
      "metadata": {
        "id": "kgNE4iFUVX7A"
      },
      "source": [
        "### Analysis:\n",
        "\n",
        "Does this result roughly match that of the previous statistical test?\n",
        "\n",
        "# **The p-value is less than 0.05 so we reject the null hypothesis and accept that the experimental homepage did improve the number of clicks**"
      ]
    },
    {
      "cell_type": "markdown",
      "metadata": {
        "id": "bkmWwHClVX7A"
      },
      "source": [
        "## Summary\n",
        "\n",
        "In this lab, you continued to get more practice designing and conducting AB tests. This required additional work preprocessing and formulating the initial problem in a suitable manner. Additionally, you also saw how to verify results, strengthening your knowledge of binomial variables, and reviewing initial statistical concepts of the central limit theorem, standard deviation, z-scores, and their accompanying p-values."
      ]
    }
  ],
  "metadata": {
    "kernelspec": {
      "display_name": "Python 3 (ipykernel)",
      "language": "python",
      "name": "python3"
    },
    "language_info": {
      "codemirror_mode": {
        "name": "ipython",
        "version": 3
      },
      "file_extension": ".py",
      "mimetype": "text/x-python",
      "name": "python",
      "nbconvert_exporter": "python",
      "pygments_lexer": "ipython3",
      "version": "3.9.19"
    },
    "colab": {
      "provenance": []
    }
  },
  "nbformat": 4,
  "nbformat_minor": 0
}